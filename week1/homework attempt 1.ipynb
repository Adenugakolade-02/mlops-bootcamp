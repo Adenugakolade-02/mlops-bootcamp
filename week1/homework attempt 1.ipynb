{
 "cells": [
  {
   "cell_type": "code",
   "execution_count": 81,
   "id": "aae8e998",
   "metadata": {},
   "outputs": [],
   "source": [
    "##Importing libraries\n",
    "\n",
    "import pandas as pd\n",
    "import seaborn as sns\n",
    "import numpy as np\n",
    "import sklearn\n",
    "\n",
    "from sklearn.feature_extraction import DictVectorizer\n",
    "from sklearn.linear_model import LinearRegression\n",
    "from sklearn.metrics import mean_squared_error"
   ]
  },
  {
   "cell_type": "markdown",
   "id": "f40b8178",
   "metadata": {},
   "source": [
    "### Question1"
   ]
  },
  {
   "cell_type": "code",
   "execution_count": 95,
   "id": "338829c3",
   "metadata": {},
   "outputs": [],
   "source": [
    "###reading the data\n",
    "january = pd.read_parquet(\"fhv_tripdata_2021-01.parquet\")\n",
    "february = pd.read_parquet(\"fhv_tripdata_2021-02.parquet\")"
   ]
  },
  {
   "cell_type": "code",
   "execution_count": 3,
   "id": "0114f89e",
   "metadata": {},
   "outputs": [
    {
     "name": "stdout",
     "output_type": "stream",
     "text": [
      "The total number of record in january is 1154112\n"
     ]
    }
   ],
   "source": [
    "print(f\"The total number of record in january is {len(january)}\")"
   ]
  },
  {
   "cell_type": "markdown",
   "id": "b831f3f7",
   "metadata": {},
   "source": [
    "### Question 2"
   ]
  },
  {
   "cell_type": "code",
   "execution_count": 4,
   "id": "bd1096c5",
   "metadata": {},
   "outputs": [
    {
     "data": {
      "text/html": [
       "<div>\n",
       "<style scoped>\n",
       "    .dataframe tbody tr th:only-of-type {\n",
       "        vertical-align: middle;\n",
       "    }\n",
       "\n",
       "    .dataframe tbody tr th {\n",
       "        vertical-align: top;\n",
       "    }\n",
       "\n",
       "    .dataframe thead th {\n",
       "        text-align: right;\n",
       "    }\n",
       "</style>\n",
       "<table border=\"1\" class=\"dataframe\">\n",
       "  <thead>\n",
       "    <tr style=\"text-align: right;\">\n",
       "      <th></th>\n",
       "      <th>dispatching_base_num</th>\n",
       "      <th>pickup_datetime</th>\n",
       "      <th>dropOff_datetime</th>\n",
       "      <th>PUlocationID</th>\n",
       "      <th>DOlocationID</th>\n",
       "      <th>SR_Flag</th>\n",
       "      <th>Affiliated_base_number</th>\n",
       "    </tr>\n",
       "  </thead>\n",
       "  <tbody>\n",
       "    <tr>\n",
       "      <th>0</th>\n",
       "      <td>B00009</td>\n",
       "      <td>2021-01-01 00:27:00</td>\n",
       "      <td>2021-01-01 00:44:00</td>\n",
       "      <td>NaN</td>\n",
       "      <td>NaN</td>\n",
       "      <td>None</td>\n",
       "      <td>B00009</td>\n",
       "    </tr>\n",
       "    <tr>\n",
       "      <th>1</th>\n",
       "      <td>B00009</td>\n",
       "      <td>2021-01-01 00:50:00</td>\n",
       "      <td>2021-01-01 01:07:00</td>\n",
       "      <td>NaN</td>\n",
       "      <td>NaN</td>\n",
       "      <td>None</td>\n",
       "      <td>B00009</td>\n",
       "    </tr>\n",
       "    <tr>\n",
       "      <th>2</th>\n",
       "      <td>B00013</td>\n",
       "      <td>2021-01-01 00:01:00</td>\n",
       "      <td>2021-01-01 01:51:00</td>\n",
       "      <td>NaN</td>\n",
       "      <td>NaN</td>\n",
       "      <td>None</td>\n",
       "      <td>B00013</td>\n",
       "    </tr>\n",
       "    <tr>\n",
       "      <th>3</th>\n",
       "      <td>B00037</td>\n",
       "      <td>2021-01-01 00:13:09</td>\n",
       "      <td>2021-01-01 00:21:26</td>\n",
       "      <td>NaN</td>\n",
       "      <td>72.0</td>\n",
       "      <td>None</td>\n",
       "      <td>B00037</td>\n",
       "    </tr>\n",
       "    <tr>\n",
       "      <th>4</th>\n",
       "      <td>B00037</td>\n",
       "      <td>2021-01-01 00:38:31</td>\n",
       "      <td>2021-01-01 00:53:44</td>\n",
       "      <td>NaN</td>\n",
       "      <td>61.0</td>\n",
       "      <td>None</td>\n",
       "      <td>B00037</td>\n",
       "    </tr>\n",
       "  </tbody>\n",
       "</table>\n",
       "</div>"
      ],
      "text/plain": [
       "  dispatching_base_num     pickup_datetime    dropOff_datetime  PUlocationID  \\\n",
       "0               B00009 2021-01-01 00:27:00 2021-01-01 00:44:00           NaN   \n",
       "1               B00009 2021-01-01 00:50:00 2021-01-01 01:07:00           NaN   \n",
       "2               B00013 2021-01-01 00:01:00 2021-01-01 01:51:00           NaN   \n",
       "3               B00037 2021-01-01 00:13:09 2021-01-01 00:21:26           NaN   \n",
       "4               B00037 2021-01-01 00:38:31 2021-01-01 00:53:44           NaN   \n",
       "\n",
       "   DOlocationID SR_Flag Affiliated_base_number  \n",
       "0           NaN    None                 B00009  \n",
       "1           NaN    None                 B00009  \n",
       "2           NaN    None                 B00013  \n",
       "3          72.0    None                 B00037  \n",
       "4          61.0    None                 B00037  "
      ]
     },
     "execution_count": 4,
     "metadata": {},
     "output_type": "execute_result"
    }
   ],
   "source": [
    "january.head()"
   ]
  },
  {
   "cell_type": "code",
   "execution_count": 5,
   "id": "2af1ac4a",
   "metadata": {},
   "outputs": [],
   "source": [
    "###getting duration of the ride\n",
    "january['dropOff_datetime'] = pd.to_datetime(january['dropOff_datetime'])\n",
    "january['pickup_datetime'] = pd.to_datetime(january['pickup_datetime'])\n",
    "\n",
    "\n",
    "january[\"duration\"]  = january['dropOff_datetime'] - january['pickup_datetime']"
   ]
  },
  {
   "cell_type": "code",
   "execution_count": 27,
   "id": "aeccb54c",
   "metadata": {},
   "outputs": [],
   "source": [
    "january['duration'] = january['duration'].apply(lambda x : x.total_seconds()/60)"
   ]
  },
  {
   "cell_type": "code",
   "execution_count": 29,
   "id": "0ebd91b2",
   "metadata": {},
   "outputs": [
    {
     "name": "stdout",
     "output_type": "stream",
     "text": [
      "The average duration is:  19.1672240937939\n"
     ]
    }
   ],
   "source": [
    "print(\"The average duration is: \", january['duration'].mean())"
   ]
  },
  {
   "cell_type": "code",
   "execution_count": 44,
   "id": "7c6d09fd",
   "metadata": {},
   "outputs": [
    {
     "name": "stdout",
     "output_type": "stream",
     "text": [
      "Number of records to be dropped are:  29262\n"
     ]
    }
   ],
   "source": [
    "###dataframe with minutes greater than 60\n",
    "\n",
    "\n",
    "print(\"Number of records to be dropped are: \",len(january[january[\"duration\"]>60]))\n",
    "january = january[january[\"duration\"]<=60]"
   ]
  },
  {
   "cell_type": "markdown",
   "id": "cf2992f9",
   "metadata": {},
   "source": [
    "## Question3"
   ]
  },
  {
   "cell_type": "code",
   "execution_count": 47,
   "id": "53bb6f29",
   "metadata": {},
   "outputs": [
    {
     "name": "stdout",
     "output_type": "stream",
     "text": [
      "The fraction of the missing value present in pickup location ID 83.18504689514158\n"
     ]
    }
   ],
   "source": [
    "##Fraction of missing value present\n",
    "\n",
    "total = january['PUlocationID'].isna().sum()\n",
    "print(\"The fraction of the missing value present in pickup location ID\", total/len(january) * 100)"
   ]
  },
  {
   "cell_type": "code",
   "execution_count": null,
   "id": "2f5e5b5f",
   "metadata": {},
   "outputs": [],
   "source": []
  },
  {
   "cell_type": "code",
   "execution_count": 49,
   "id": "ca56ed58",
   "metadata": {},
   "outputs": [],
   "source": [
    "##filling the missing values with \"-1\"\n",
    "january.fillna(-1,inplace=True)"
   ]
  },
  {
   "cell_type": "code",
   "execution_count": 51,
   "id": "3659724a",
   "metadata": {},
   "outputs": [
    {
     "data": {
      "text/plain": [
       "dispatching_base_num      0\n",
       "pickup_datetime           0\n",
       "dropOff_datetime          0\n",
       "PUlocationID              0\n",
       "DOlocationID              0\n",
       "SR_Flag                   0\n",
       "Affiliated_base_number    0\n",
       "duration                  0\n",
       "dtype: int64"
      ]
     },
     "execution_count": 51,
     "metadata": {},
     "output_type": "execute_result"
    }
   ],
   "source": [
    "january.isna().sum()"
   ]
  },
  {
   "cell_type": "markdown",
   "id": "6fa1d420",
   "metadata": {},
   "source": [
    "### Question4"
   ]
  },
  {
   "cell_type": "code",
   "execution_count": 69,
   "id": "004b5f1f",
   "metadata": {},
   "outputs": [],
   "source": [
    "### converting DOlocationID  and PUlocationID to strings\n",
    "\n",
    "categorical  = [\"PUlocationID\", \"DOlocationID\"]\n",
    "january[categorical] = january[categorical].astype('str')"
   ]
  },
  {
   "cell_type": "code",
   "execution_count": 70,
   "id": "d676ec58",
   "metadata": {},
   "outputs": [
    {
     "data": {
      "text/html": [
       "<div>\n",
       "<style scoped>\n",
       "    .dataframe tbody tr th:only-of-type {\n",
       "        vertical-align: middle;\n",
       "    }\n",
       "\n",
       "    .dataframe tbody tr th {\n",
       "        vertical-align: top;\n",
       "    }\n",
       "\n",
       "    .dataframe thead th {\n",
       "        text-align: right;\n",
       "    }\n",
       "</style>\n",
       "<table border=\"1\" class=\"dataframe\">\n",
       "  <thead>\n",
       "    <tr style=\"text-align: right;\">\n",
       "      <th></th>\n",
       "      <th>dispatching_base_num</th>\n",
       "      <th>pickup_datetime</th>\n",
       "      <th>dropOff_datetime</th>\n",
       "      <th>PUlocationID</th>\n",
       "      <th>DOlocationID</th>\n",
       "      <th>SR_Flag</th>\n",
       "      <th>Affiliated_base_number</th>\n",
       "      <th>duration</th>\n",
       "    </tr>\n",
       "  </thead>\n",
       "  <tbody>\n",
       "    <tr>\n",
       "      <th>0</th>\n",
       "      <td>B00009</td>\n",
       "      <td>2021-01-01 00:27:00</td>\n",
       "      <td>2021-01-01 00:44:00</td>\n",
       "      <td>-1.0</td>\n",
       "      <td>-1.0</td>\n",
       "      <td>-1</td>\n",
       "      <td>B00009</td>\n",
       "      <td>17.000000</td>\n",
       "    </tr>\n",
       "    <tr>\n",
       "      <th>1</th>\n",
       "      <td>B00009</td>\n",
       "      <td>2021-01-01 00:50:00</td>\n",
       "      <td>2021-01-01 01:07:00</td>\n",
       "      <td>-1.0</td>\n",
       "      <td>-1.0</td>\n",
       "      <td>-1</td>\n",
       "      <td>B00009</td>\n",
       "      <td>17.000000</td>\n",
       "    </tr>\n",
       "    <tr>\n",
       "      <th>3</th>\n",
       "      <td>B00037</td>\n",
       "      <td>2021-01-01 00:13:09</td>\n",
       "      <td>2021-01-01 00:21:26</td>\n",
       "      <td>-1.0</td>\n",
       "      <td>72.0</td>\n",
       "      <td>-1</td>\n",
       "      <td>B00037</td>\n",
       "      <td>8.283333</td>\n",
       "    </tr>\n",
       "    <tr>\n",
       "      <th>4</th>\n",
       "      <td>B00037</td>\n",
       "      <td>2021-01-01 00:38:31</td>\n",
       "      <td>2021-01-01 00:53:44</td>\n",
       "      <td>-1.0</td>\n",
       "      <td>61.0</td>\n",
       "      <td>-1</td>\n",
       "      <td>B00037</td>\n",
       "      <td>15.216667</td>\n",
       "    </tr>\n",
       "    <tr>\n",
       "      <th>5</th>\n",
       "      <td>B00037</td>\n",
       "      <td>2021-01-01 00:59:02</td>\n",
       "      <td>2021-01-01 01:08:05</td>\n",
       "      <td>-1.0</td>\n",
       "      <td>71.0</td>\n",
       "      <td>-1</td>\n",
       "      <td>B00037</td>\n",
       "      <td>9.050000</td>\n",
       "    </tr>\n",
       "    <tr>\n",
       "      <th>6</th>\n",
       "      <td>B00037</td>\n",
       "      <td>2021-01-01 00:18:12</td>\n",
       "      <td>2021-01-01 00:30:04</td>\n",
       "      <td>-1.0</td>\n",
       "      <td>91.0</td>\n",
       "      <td>-1</td>\n",
       "      <td>B00037</td>\n",
       "      <td>11.866667</td>\n",
       "    </tr>\n",
       "  </tbody>\n",
       "</table>\n",
       "</div>"
      ],
      "text/plain": [
       "  dispatching_base_num     pickup_datetime    dropOff_datetime PUlocationID  \\\n",
       "0               B00009 2021-01-01 00:27:00 2021-01-01 00:44:00         -1.0   \n",
       "1               B00009 2021-01-01 00:50:00 2021-01-01 01:07:00         -1.0   \n",
       "3               B00037 2021-01-01 00:13:09 2021-01-01 00:21:26         -1.0   \n",
       "4               B00037 2021-01-01 00:38:31 2021-01-01 00:53:44         -1.0   \n",
       "5               B00037 2021-01-01 00:59:02 2021-01-01 01:08:05         -1.0   \n",
       "6               B00037 2021-01-01 00:18:12 2021-01-01 00:30:04         -1.0   \n",
       "\n",
       "  DOlocationID  SR_Flag Affiliated_base_number   duration  \n",
       "0         -1.0       -1                 B00009  17.000000  \n",
       "1         -1.0       -1                 B00009  17.000000  \n",
       "3         72.0       -1                 B00037   8.283333  \n",
       "4         61.0       -1                 B00037  15.216667  \n",
       "5         71.0       -1                 B00037   9.050000  \n",
       "6         91.0       -1                 B00037  11.866667  "
      ]
     },
     "execution_count": 70,
     "metadata": {},
     "output_type": "execute_result"
    }
   ],
   "source": [
    "january.head(6)"
   ]
  },
  {
   "cell_type": "code",
   "execution_count": 71,
   "id": "98cc3547",
   "metadata": {},
   "outputs": [],
   "source": [
    "train_dict = january[categorical].to_dict(orient='records')"
   ]
  },
  {
   "cell_type": "code",
   "execution_count": 72,
   "id": "5f38f429",
   "metadata": {},
   "outputs": [],
   "source": [
    "dv = DictVectorizer()\n",
    "\n",
    "X_train = dv.fit_transform(train_dict)"
   ]
  },
  {
   "cell_type": "code",
   "execution_count": 73,
   "id": "bbcf562e",
   "metadata": {},
   "outputs": [
    {
     "name": "stdout",
     "output_type": "stream",
     "text": [
      "The dimensionality of the matrix is 525\n"
     ]
    }
   ],
   "source": [
    "print(\"The dimensionality of the matrix is\", X_train.shape[1])"
   ]
  },
  {
   "cell_type": "markdown",
   "id": "9c9059bb",
   "metadata": {},
   "source": [
    "### Question 5"
   ]
  },
  {
   "cell_type": "code",
   "execution_count": 78,
   "id": "d22acc52",
   "metadata": {},
   "outputs": [],
   "source": [
    "target = january['duration'].values"
   ]
  },
  {
   "cell_type": "code",
   "execution_count": 79,
   "id": "d40857a4",
   "metadata": {},
   "outputs": [
    {
     "data": {
      "text/plain": [
       "LinearRegression()"
      ]
     },
     "execution_count": 79,
     "metadata": {},
     "output_type": "execute_result"
    }
   ],
   "source": [
    "lr = LinearRegression()\n",
    "\n",
    "lr.fit(X_train,target)"
   ]
  },
  {
   "cell_type": "code",
   "execution_count": 82,
   "id": "c85feb95",
   "metadata": {},
   "outputs": [
    {
     "name": "stdout",
     "output_type": "stream",
     "text": [
      "The mean squared error on the training data is 10.629704061671607\n"
     ]
    }
   ],
   "source": [
    "print(\"The mean squared error on the training data is\",np.sqrt(mean_squared_error(lr.predict(X_train),target)))"
   ]
  },
  {
   "cell_type": "markdown",
   "id": "c5dd065b",
   "metadata": {},
   "source": [
    "### Question 6"
   ]
  },
  {
   "cell_type": "code",
   "execution_count": 87,
   "id": "574b5756",
   "metadata": {},
   "outputs": [],
   "source": [
    "def obtain_duration(data) ->pd.DataFrame:\n",
    "    data[\"duration\"]  = data['dropOff_datetime'] - data['pickup_datetime']\n",
    "    data['duration'] = data['duration'].apply(lambda x : x.total_seconds()/60)\n",
    "    return data"
   ]
  },
  {
   "cell_type": "code",
   "execution_count": 88,
   "id": "7e84eed9",
   "metadata": {},
   "outputs": [],
   "source": [
    "def convert_to_datetime(data) ->pd.DataFrame:\n",
    "    data['dropOff_datetime'] = pd.to_datetime(data['dropOff_datetime'])\n",
    "    data['pickup_datetime'] = pd.to_datetime(data['pickup_datetime'])\n",
    "    return data"
   ]
  },
  {
   "cell_type": "code",
   "execution_count": 89,
   "id": "aa91e3b2",
   "metadata": {},
   "outputs": [],
   "source": [
    "def dropping_and_filling_value(data)->pd.DataFrame:\n",
    "    data = data[data[\"duration\"]<=60]\n",
    "    data.fillna(-1,inplace=True)\n",
    "    return data"
   ]
  },
  {
   "cell_type": "code",
   "execution_count": 91,
   "id": "20b56928",
   "metadata": {},
   "outputs": [],
   "source": [
    "def return_data(data):\n",
    "    data[categorical] = data[categorical].astype('str')\n",
    "    test_dict = data[categorical].to_dict(orient='records')\n",
    "    test_dict = dv.transform(test_dict)\n",
    "    return test_dict, data['duration'].values"
   ]
  },
  {
   "cell_type": "code",
   "execution_count": 96,
   "id": "4117af5c",
   "metadata": {},
   "outputs": [
    {
     "name": "stderr",
     "output_type": "stream",
     "text": [
      "/tmp/ipykernel_58/3920698523.py:3: SettingWithCopyWarning: \n",
      "A value is trying to be set on a copy of a slice from a DataFrame\n",
      "\n",
      "See the caveats in the documentation: https://pandas.pydata.org/pandas-docs/stable/user_guide/indexing.html#returning-a-view-versus-a-copy\n",
      "  data.fillna(-1,inplace=True)\n",
      "/tmp/ipykernel_58/4249647402.py:2: SettingWithCopyWarning: \n",
      "A value is trying to be set on a copy of a slice from a DataFrame.\n",
      "Try using .loc[row_indexer,col_indexer] = value instead\n",
      "\n",
      "See the caveats in the documentation: https://pandas.pydata.org/pandas-docs/stable/user_guide/indexing.html#returning-a-view-versus-a-copy\n",
      "  data[categorical] = data[categorical].astype('str')\n"
     ]
    }
   ],
   "source": [
    "february = obtain_duration(february)\n",
    "february = convert_to_datetime(february)\n",
    "february = dropping_and_filling_value(february)\n",
    "X_test, target = return_data(february)"
   ]
  },
  {
   "cell_type": "code",
   "execution_count": 97,
   "id": "228582d6",
   "metadata": {},
   "outputs": [],
   "source": [
    "x_target = lr.predict(X_test)"
   ]
  },
  {
   "cell_type": "code",
   "execution_count": 98,
   "id": "5803593e",
   "metadata": {},
   "outputs": [
    {
     "name": "stdout",
     "output_type": "stream",
     "text": [
      "The test mean squared error on the training data is 11.115605155428213\n"
     ]
    }
   ],
   "source": [
    "print(\"The test mean squared error on the training data is\",np.sqrt(mean_squared_error(x_target,target)))"
   ]
  },
  {
   "cell_type": "code",
   "execution_count": null,
   "id": "db161d9d",
   "metadata": {},
   "outputs": [],
   "source": []
  }
 ],
 "metadata": {
  "kernelspec": {
   "display_name": "Python 3 (ipykernel)",
   "language": "python",
   "name": "python3"
  },
  "language_info": {
   "codemirror_mode": {
    "name": "ipython",
    "version": 3
   },
   "file_extension": ".py",
   "mimetype": "text/x-python",
   "name": "python",
   "nbconvert_exporter": "python",
   "pygments_lexer": "ipython3",
   "version": "3.9.12"
  }
 },
 "nbformat": 4,
 "nbformat_minor": 5
}
